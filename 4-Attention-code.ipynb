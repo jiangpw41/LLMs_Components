{
 "cells": [
  {
   "cell_type": "code",
   "execution_count": null,
   "metadata": {},
   "outputs": [],
   "source": [
    "import torch\n",
    "import torch.nn as nn\n",
    "\n",
    "\n",
    "class MultiHeadAttention( nn.Module ):\n",
    "    def __init__( self, num_heads, hidden_dim, qk_dim, v_dim ):\n",
    "        self.hidden_dim = hidden_dim\n",
    "        self.num_heads = num_heads\n",
    "        self.qk_dim = qk_dim\n",
    "        self.v_dim = v_dim\n",
    "\n",
    "        self.query_linear = nn.Linear( self.hidden_dim, self.num_heads*self.qk_dim )\n",
    "        self.key_linear = nn.Linear( self.hidden_dim, self.num_heads*self.qk_dim )\n",
    "        self.value_linear = nn.Linear( self.hidden_dim, self.num_heads*self.v_dim )\n",
    "\n",
    "        self.attn_dropout = torch.Dropout( 0.1 )\n",
    "\n",
    "        self.o_proj = nn.Linear( self.num_heads*self.v_dim, self.hidden_dim )\n",
    "\n",
    "    def forward( self, hidden_states, attention_mask = None ):\n",
    "        batch_size, seq_len = hidden_states.shape[0]\n"
   ]
  }
 ],
 "metadata": {
  "kernelspec": {
   "display_name": "CV",
   "language": "python",
   "name": "python3"
  },
  "language_info": {
   "name": "python",
   "version": "3.10.0"
  }
 },
 "nbformat": 4,
 "nbformat_minor": 2
}
